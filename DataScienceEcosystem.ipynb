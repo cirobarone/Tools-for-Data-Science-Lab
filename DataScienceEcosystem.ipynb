{
  "metadata": {
    "kernelspec": {
      "name": "python",
      "display_name": "Python (Pyodide)",
      "language": "python"
    },
    "language_info": {
      "codemirror_mode": {
        "name": "python",
        "version": 3
      },
      "file_extension": ".py",
      "mimetype": "text/x-python",
      "name": "python",
      "nbconvert_exporter": "python",
      "pygments_lexer": "ipython3",
      "version": "3.8"
    }
  },
  "nbformat_minor": 5,
  "nbformat": 4,
  "cells": [
    {
      "id": "4b546d22-7020-40f5-b660-d6e919509544",
      "cell_type": "markdown",
      "source": "# Data Science Tools and Ecosystem",
      "metadata": {}
    },
    {
      "id": "97ec9a5c-f47d-4ade-ad33-009fe430a655",
      "cell_type": "markdown",
      "source": "In this notebook, Data Science Tools and Ecosystem are summarized.",
      "metadata": {}
    },
    {
      "id": "cb58940c-0923-4e1b-a642-e0180d1ff1ca",
      "cell_type": "markdown",
      "source": "Some of the popular languages that Data Scientists use are:\n1. Python\n2. R\n3. Scala",
      "metadata": {}
    },
    {
      "id": "b70a40d7-b886-40e8-acc1-f9e56f877f02",
      "cell_type": "markdown",
      "source": "Some of the commonly used libraries used by Data Scientists include:\n\n1. Panda\n2. Tensorflow\n3. Pytorch\n4. Numpy",
      "metadata": {}
    },
    {
      "id": "d5595715-db0e-474c-8ea6-6c5c3b5cec7e",
      "cell_type": "markdown",
      "source": "|Data Science Tools|\n|---|\n| Jupyter Notebook|\n|RStudio|\n|Knime|",
      "metadata": {}
    },
    {
      "id": "fcf9ed0f-a9a7-4ead-ae68-d4a23a6a89e7",
      "cell_type": "markdown",
      "source": "### Below are a few examples of evaluating arithmetic expressions in Python",
      "metadata": {}
    },
    {
      "id": "e2d6f9b3-df02-44b7-a4ce-4b362daeb3c7",
      "cell_type": "code",
      "source": "(3*4)+5",
      "metadata": {
        "trusted": true
      },
      "outputs": [
        {
          "execution_count": 9,
          "output_type": "execute_result",
          "data": {
            "text/plain": "17"
          },
          "metadata": {}
        }
      ],
      "execution_count": 9
    },
    {
      "id": "265d91f4-a8e6-4d7b-a2a6-56bae39f28c6",
      "cell_type": "code",
      "source": "#This will convert 200 minutes to hours by diving by 60.",
      "metadata": {
        "trusted": true
      },
      "outputs": [],
      "execution_count": 6
    },
    {
      "id": "e5180845-7fca-4f29-b98b-acb674332d14",
      "cell_type": "code",
      "source": "200/60",
      "metadata": {
        "trusted": true
      },
      "outputs": [
        {
          "execution_count": 7,
          "output_type": "execute_result",
          "data": {
            "text/plain": "3.3333333333333335"
          },
          "metadata": {}
        }
      ],
      "execution_count": 7
    },
    {
      "id": "4d494246-d54f-4578-8270-e3aadc499c15",
      "cell_type": "markdown",
      "source": "# **Objectivies**:\n- List of Open Source Data Science tools\n- List of the most used languages and libraries for Data Science\n- How to format text and execute aritmetic operations",
      "metadata": {}
    },
    {
      "id": "367323ce-c22b-4591-91fc-790750b4750c",
      "cell_type": "markdown",
      "source": "## Author\nCiro Barone",
      "metadata": {}
    },
    {
      "id": "1500cfc0-6f2f-499d-9804-5aafb62fd47a",
      "cell_type": "code",
      "source": "",
      "metadata": {
        "trusted": true
      },
      "outputs": [],
      "execution_count": null
    }
  ]
}